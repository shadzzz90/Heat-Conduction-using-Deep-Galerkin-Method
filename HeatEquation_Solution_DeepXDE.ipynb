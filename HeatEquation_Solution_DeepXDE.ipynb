{
 "cells": [
  {
   "cell_type": "code",
   "execution_count": 101,
   "metadata": {},
   "outputs": [],
   "source": [
    "%matplotlib inline\n",
    "import matplotlib.pyplot as plt\n",
    "import numpy as np\n",
    "\n",
    "import deepxde as dde\n",
    "from deepxde.backend import tf\n",
    "import math\n",
    "from celluloid import Camera\n"
   ]
  },
  {
   "cell_type": "code",
   "execution_count": 43,
   "metadata": {},
   "outputs": [],
   "source": [
    "L = 80\n",
    "T = 5\n",
    "\n",
    "rho = 8.92\n",
    "Cp = 0.092\n",
    "k = 0.95\n",
    "\n",
    "a = k/(rho*Cp) # Thermal diffusivity\n",
    "\n",
    "lambda_sqaure = (a*math.pi**2)/L**2\n",
    "\n",
    "n = 1 # Frequency of the sinusoidal initial conditions"
   ]
  },
  {
   "cell_type": "code",
   "execution_count": 44,
   "metadata": {},
   "outputs": [],
   "source": [
    "u_x_t = lambda x, t: np.sin((x * np.pi) / L) * np.exp(-lambda_sqaure * t)"
   ]
  },
  {
   "cell_type": "code",
   "execution_count": 45,
   "metadata": {},
   "outputs": [],
   "source": [
    "def pde(x, y):\n",
    "    \"\"\"\n",
    "    Expresses the PDE residual of the heat equation.        \n",
    "    \"\"\"\n",
    "    dy_t = dde.grad.jacobian(y, x, i=0, j=1)\n",
    "    dy_xx = dde.grad.hessian(y, x, i=0, j=0)\n",
    "    return dy_t - a*dy_xx"
   ]
  },
  {
   "cell_type": "code",
   "execution_count": 46,
   "metadata": {},
   "outputs": [
    {
     "name": "stdout",
     "output_type": "stream",
     "text": [
      "Warning: 2540 points required, but 2626 points sampled.\n",
      "Compiling model...\n",
      "Building feed-forward neural network...\n",
      "'build' took 0.048015 s\n",
      "\n"
     ]
    },
    {
     "name": "stderr",
     "output_type": "stream",
     "text": [
      "C:\\Users\\sksha\\AppData\\Local\\Programs\\Python\\Python38\\lib\\site-packages\\skopt\\sampler\\sobol.py:246: UserWarning: The balance properties of Sobol' points require n to be a power of 2. 0 points have been previously generated, then: n=0+2542=2542. \n",
      "  warnings.warn(\"The balance properties of Sobol' points require \"\n",
      "C:\\Users\\sksha\\AppData\\Local\\Programs\\Python\\Python38\\lib\\site-packages\\skopt\\sampler\\sobol.py:246: UserWarning: The balance properties of Sobol' points require n to be a power of 2. 0 points have been previously generated, then: n=0+82=82. \n",
      "  warnings.warn(\"The balance properties of Sobol' points require \"\n",
      "C:\\Users\\sksha\\AppData\\Local\\Programs\\Python\\Python38\\lib\\site-packages\\skopt\\sampler\\sobol.py:246: UserWarning: The balance properties of Sobol' points require n to be a power of 2. 0 points have been previously generated, then: n=0+162=162. \n",
      "  warnings.warn(\"The balance properties of Sobol' points require \"\n"
     ]
    },
    {
     "name": "stdout",
     "output_type": "stream",
     "text": [
      "'compile' took 0.349125 s\n",
      "\n",
      "Initializing variables...\n",
      "Training model...\n",
      "\n",
      "Step      Train loss                        Test loss                         Test metric\n",
      "0         [5.35e-03, 7.96e-01, 2.28e-01]    [3.56e-03, 7.96e-01, 2.28e-01]    []  \n",
      "1000      [9.18e-05, 1.04e-03, 1.40e-03]    [6.90e-05, 1.04e-03, 1.40e-03]    []  \n",
      "2000      [1.61e-05, 1.66e-04, 1.06e-04]    [1.28e-05, 1.66e-04, 1.06e-04]    []  \n",
      "3000      [7.58e-06, 7.02e-06, 1.78e-05]    [6.30e-06, 7.02e-06, 1.78e-05]    []  \n",
      "4000      [4.75e-06, 4.29e-06, 1.12e-05]    [4.16e-06, 4.29e-06, 1.12e-05]    []  \n",
      "5000      [3.27e-06, 2.86e-06, 7.11e-06]    [2.94e-06, 2.86e-06, 7.11e-06]    []  \n",
      "6000      [2.44e-06, 2.10e-06, 5.03e-06]    [2.20e-06, 2.10e-06, 5.03e-06]    []  \n",
      "7000      [1.94e-06, 1.56e-06, 3.64e-06]    [1.74e-06, 1.56e-06, 3.64e-06]    []  \n",
      "8000      [1.66e-06, 1.42e-06, 3.60e-06]    [1.47e-06, 1.42e-06, 3.60e-06]    []  \n",
      "9000      [1.75e-06, 1.30e-03, 8.38e-04]    [1.38e-06, 1.30e-03, 8.38e-04]    []  \n",
      "10000     [1.74e-06, 2.43e-05, 1.09e-05]    [1.36e-06, 2.43e-05, 1.09e-05]    []  \n",
      "11000     [1.00e-06, 7.40e-07, 8.34e-07]    [8.81e-07, 7.40e-07, 8.34e-07]    []  \n",
      "12000     [9.25e-07, 7.28e-07, 1.08e-06]    [8.09e-07, 7.28e-07, 1.08e-06]    []  \n",
      "13000     [1.01e-06, 1.66e-06, 1.92e-06]    [8.52e-07, 1.66e-06, 1.92e-06]    []  \n",
      "14000     [7.39e-07, 5.95e-07, 1.42e-06]    [6.40e-07, 5.95e-07, 1.42e-06]    []  \n",
      "15000     [9.16e-07, 7.73e-06, 1.05e-05]    [7.51e-07, 7.73e-06, 1.05e-05]    []  \n",
      "16000     [6.01e-07, 5.64e-07, 2.08e-06]    [5.03e-07, 5.64e-07, 2.08e-06]    []  \n",
      "17000     [5.83e-07, 6.25e-07, 2.61e-06]    [4.71e-07, 6.25e-07, 2.61e-06]    []  \n",
      "18000     [6.98e-07, 8.96e-07, 4.06e-06]    [5.31e-07, 8.96e-07, 4.06e-06]    []  \n",
      "19000     [1.83e-06, 3.35e-05, 2.65e-05]    [1.49e-06, 3.35e-05, 2.65e-05]    []  \n",
      "20000     [5.16e-07, 5.65e-07, 3.38e-06]    [3.90e-07, 5.65e-07, 3.38e-06]    []  \n",
      "\n",
      "Best model at step 11000:\n",
      "  train loss: 2.57e-06\n",
      "  test loss: 2.46e-06\n",
      "  test metric: []\n",
      "\n",
      "'train' took 68.625427 s\n",
      "\n"
     ]
    },
    {
     "data": {
      "text/plain": [
       "(<deepxde.model.LossHistory at 0x22b2e9f5130>,\n",
       " <deepxde.model.TrainState at 0x22b22464dc0>)"
      ]
     },
     "execution_count": 46,
     "metadata": {},
     "output_type": "execute_result"
    }
   ],
   "source": [
    "# Computational geometry:\n",
    "geom = dde.geometry.Interval(0, L)\n",
    "timedomain = dde.geometry.TimeDomain(0, T)\n",
    "geomtime = dde.geometry.GeometryXTime(geom, timedomain)\n",
    "\n",
    "# Initial and boundary conditions:\n",
    "bc = dde.DirichletBC(geomtime, lambda x: 0, lambda _, on_boundary: on_boundary)\n",
    "ic = dde.IC(\n",
    "    geomtime, lambda x: np.sin(n*np.pi*x[:, 0:1]/L), lambda _, on_initial: on_initial\n",
    "    )\n",
    "\n",
    "# Define the PDE problem and configurations of the network:\n",
    "data = dde.data.TimePDE(\n",
    "    geomtime, pde, [bc, ic], num_domain=2540, num_boundary=80, num_initial=160, num_test=2540\n",
    ")\n",
    "net = dde.nn.FNN([2] + [20] * 3 + [1], \"tanh\", \"Glorot normal\")\n",
    "model = dde.Model(data, net)\n",
    "\n",
    "# Build and train the model:\n",
    "model.compile(\"adam\", lr=1e-3)\n",
    "model.train(epochs=20000)"
   ]
  },
  {
   "cell_type": "code",
   "execution_count": 47,
   "metadata": {},
   "outputs": [
    {
     "name": "stdout",
     "output_type": "stream",
     "text": [
      "Compiling model...\n",
      "'compile' took 0.213653 s\n",
      "\n"
     ]
    }
   ],
   "source": [
    "model.compile(\"L-BFGS\")"
   ]
  },
  {
   "cell_type": "code",
   "execution_count": 48,
   "metadata": {},
   "outputs": [
    {
     "name": "stdout",
     "output_type": "stream",
     "text": [
      "Training model...\n",
      "\n",
      "Step      Train loss                        Test loss                         Test metric\n",
      "20000     [5.16e-07, 5.65e-07, 3.38e-06]    [3.90e-07, 5.65e-07, 3.38e-06]    []  \n",
      "INFO:tensorflow:Optimization terminated with:\n",
      "  Message: CONVERGENCE: REL_REDUCTION_OF_F_<=_FACTR*EPSMCH\n",
      "  Objective function value: 0.000004\n",
      "  Number of iterations: 5\n",
      "  Number of functions evaluations: 25\n",
      "20025     [5.16e-07, 5.91e-07, 3.35e-06]    [3.90e-07, 5.91e-07, 3.35e-06]    []  \n",
      "\n",
      "Best model at step 11000:\n",
      "  train loss: 2.57e-06\n",
      "  test loss: 2.46e-06\n",
      "  test metric: []\n",
      "\n",
      "'train' took 0.515737 s\n",
      "\n"
     ]
    }
   ],
   "source": [
    "losshistory, train_state = model.train()"
   ]
  },
  {
   "cell_type": "code",
   "execution_count": 35,
   "metadata": {},
   "outputs": [],
   "source": [
    "dde.saveplot(losshistory, train_state, issave=True, isplot=True)"
   ]
  },
  {
   "cell_type": "code",
   "execution_count": 116,
   "metadata": {},
   "outputs": [
    {
     "data": {
      "image/png": "[encoded data removed]",
      "text/plain": [
       "<Figure size 432x288 with 1 Axes>"
      ]
     },
     "metadata": {},
     "output_type": "display_data"
    }
   ],
   "source": [
    "x = np.linspace(0, L, 80)\n",
    "t = np.linspace(0, 15, 15)\n",
    "\n",
    "\n",
    "xx, tt = np.meshgrid(x, t)\n",
    "\n",
    "\n",
    "X = np.vstack((np.ravel(xx), np.ravel(tt))).T\n",
    "\n",
    "final_temp = model.predict(X)\n",
    "\n",
    "final_temps = np.split(final_temp,t.shape[0]) \n",
    "# plt.plot(x, final_temp[:x.shape[0]])\n",
    "                       \n",
    "# plt.show()\n",
    "final_temp_ana = []\n",
    "\n",
    "u_x_t = lambda x, t: np.sin((x * np.pi) / L) * np.exp(-lambda_sqaure * t)\n",
    "\n",
    "fig, ax = plt.subplots()\n",
    "fig.patch.set_facecolor('xkcd:white')\n",
    "camera = Camera(fig)\n",
    "\n",
    "ax.set_xlabel('Length (m)')\n",
    "ax.set_ylabel('Tempreature ($^0$C)')\n",
    "\n",
    "for i,_t in enumerate(t):\n",
    "\n",
    "\n",
    "    final_temp_ana.append(u_x_t(x, _t))\n",
    "\n",
    "\n",
    "    ax.plot(x, final_temps[i], '-b', x.flatten(), np.array(final_temp_ana)[i,:],'-r')\n",
    "\n",
    "    ax.text(0.5, 1.01, \"Time = {} secs \".format(int(i)), transform=ax.transAxes)\n",
    "\n",
    "    ax.legend(['DeepXDE', 'Analytical'])\n",
    "\n",
    "    camera.snap()\n",
    "\n",
    "\n",
    "anim = camera.animate()\n",
    "\n",
    "anim.save('solution_DeepXDE_vs_Analytical_gen.gif', dpi=100)"
   ]
  },
  {
   "cell_type": "code",
   "execution_count": null,
   "metadata": {},
   "outputs": [],
   "source": []
  }
 ],
 "metadata": {
  "kernelspec": {
   "display_name": "Python 3",
   "language": "python",
   "name": "python3"
  },
  "language_info": {
   "codemirror_mode": {
    "name": "ipython",
    "version": 3
   },
   "file_extension": ".py",
   "mimetype": "text/x-python",
   "name": "python",
   "nbconvert_exporter": "python",
   "pygments_lexer": "ipython3",
   "version": "3.8.1"
  }
 },
 "nbformat": 4,
 "nbformat_minor": 4
}
